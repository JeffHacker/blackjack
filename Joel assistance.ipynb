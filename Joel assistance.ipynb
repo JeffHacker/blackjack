{
 "cells": [
  {
   "cell_type": "code",
   "execution_count": 129,
   "metadata": {
    "collapsed": false
   },
   "outputs": [
    {
     "name": "stdout",
     "output_type": "stream",
     "text": [
      "5 of diamonds\n",
      "['K of spades', '4 of hearts', '4 of diamonds', '8 of spades', 'A of diamonds', 'A of clubs', 'K of diamonds', 'Q of hearts', 'Q of diamonds', 'J of hearts', 'J of spades', '8 of clubs', '8 of hearts', '10 of spades', 'K of clubs', '2 of spades', '4 of spades', '5 of hearts', 'Q of spades', '7 of diamonds', '6 of diamonds', '2 of diamonds', 'K of hearts', '9 of hearts', '4 of clubs', 'A of hearts', '6 of clubs', '6 of spades', '5 of clubs', '3 of diamonds', 'A of spades', '5 of spades', '10 of clubs', '9 of spades', 'J of clubs', '2 of clubs', '7 of clubs', '3 of spades', '9 of clubs', '2 of hearts', '10 of diamonds', '7 of spades', '10 of hearts', '9 of diamonds', 'Q of clubs', '3 of clubs', '3 of hearts', 'J of diamonds', '6 of hearts', '7 of hearts', '8 of diamonds']\n"
     ]
    },
    {
     "data": {
      "text/plain": [
       "False"
      ]
     },
     "execution_count": 129,
     "metadata": {},
     "output_type": "execute_result"
    }
   ],
   "source": [
    "# Cards includes a list of 52 regular cards with no Jokers\n",
    "import random\n",
    "\n",
    "whole_deck = ['A of clubs', 'K of clubs', 'Q of clubs', 'J of clubs', '10 of clubs',\n",
    "        '9 of clubs', '8 of clubs', '7 of clubs', '6 of clubs', '5 of clubs',\n",
    "        '4 of clubs', '3 of clubs', '2 of clubs', 'A of hearts', 'K of hearts',\n",
    "        'Q of hearts', 'J of hearts', '10 of hearts', '9 of hearts', '8 of hearts',\n",
    "        '7 of hearts', '6 of hearts', '5 of hearts', '4 of hearts', '3 of hearts',\n",
    "        '2 of hearts', 'A of diamonds', 'K of diamonds', 'Q of diamonds',\n",
    "        'J of diamonds', '10 of diamonds', '9 of diamonds', '8 of diamonds',\n",
    "        '7 of diamonds', '6 of diamonds', '5 of diamonds', '4 of diamonds',\n",
    "        '3 of diamonds', '2 of diamonds', 'A of spades', 'K of spades',\n",
    "        'Q of spades', 'J of spades', '10 of spades', '9 of spades', '8 of spades',\n",
    "        '7 of spades', '6 of spades', '5 of spades', '4 of spades', '3 of spades',\n",
    "        '2 of spades']\n",
    "\n",
    "\n",
    "deck = whole_deck\n",
    "random.shuffle(deck)\n",
    "\n",
    "played_cards = []\n",
    "\n",
    "live_card = deck.pop()\n",
    "print(live_card)\n",
    "\n",
    "# random.shuffle(lst)\n",
    "\n",
    "# random.shuffle(deck)\n",
    "print(deck)\n",
    "# print(live_card)\n",
    "    \n",
    "    \n",
    "live_card not in deck == True"
   ]
  },
  {
   "cell_type": "code",
   "execution_count": 190,
   "metadata": {
    "collapsed": false
   },
   "outputs": [
    {
     "name": "stdout",
     "output_type": "stream",
     "text": [
      "K of clubs\n",
      "3 of clubs\n",
      "2 of clubs\n",
      "[]\n"
     ]
    }
   ],
   "source": [
    "alist = ['2 of clubs', '3 of clubs', 'K of clubs']\n",
    "\n",
    "x = alist.pop()\n",
    "print(x)\n",
    "x = alist.pop()\n",
    "print(x)\n",
    "x = alist.pop()\n",
    "print(x)\n",
    "\n",
    "print(alist)\n"
   ]
  },
  {
   "cell_type": "code",
   "execution_count": 6,
   "metadata": {
    "collapsed": false
   },
   "outputs": [
    {
     "name": "stdout",
     "output_type": "stream",
     "text": [
      "Play again? 'Y' or 'N' y\n",
      "deal\n"
     ]
    }
   ],
   "source": [
    "def deal():\n",
    "    print(\"deal\")\n",
    "\n",
    "def play_again_choice():\n",
    "    play_choice = input(\"Play again? 'Y' or 'N' \").lower()\n",
    "    if play_choice == 'y':\n",
    "        return deal()\n",
    "    \n",
    "play_again_choice()"
   ]
  },
  {
   "cell_type": "code",
   "execution_count": 19,
   "metadata": {
    "collapsed": false
   },
   "outputs": [
    {
     "name": "stdout",
     "output_type": "stream",
     "text": [
      "aaron\n"
     ]
    }
   ],
   "source": [
    "class Person:\n",
    "    \n",
    "    def __init__(self, name, friend=None):\n",
    "        self.name = name\n",
    "        self.friend = friend\n",
    "\n",
    "aaron = Person(\"aaron\")\n",
    "joel = Person(\"joel\", aaron)\n",
    "print(joel.friend.name)\n"
   ]
  },
  {
   "cell_type": "markdown",
   "metadata": {},
   "source": [
    "card\n",
    " - suit <- attribute\n",
    " - number <- attribute\n",
    " - has no abilities\n",
    "\n",
    "player\n",
    " - cards <- attribute\n",
    " - has the ability to accept cards <- methods\n",
    " - has the ability to hit\n",
    " - has the ability to stay\n",
    " \n",
    "dealer\n",
    " - cards <- attribute\n",
    " - has the ability to accept cards <- methods\n",
    " - has the ability to hit\n",
    " - has the ability to stay\n",
    " - can decide to stay or hit\n",
    "\n",
    "game\n",
    " - player <- attribute\n",
    " - dealer <- attribute\n",
    " - has the ability to generate a deck of cards\n",
    " - has the ability to give cards to player & dealer  <- methods\n",
    " - has the ability to ask a player/dealer to hit or stay"
   ]
  },
  {
   "cell_type": "code",
   "execution_count": 130,
   "metadata": {
    "collapsed": true
   },
   "outputs": [],
   "source": [
    "class Card:\n",
    "        \n",
    "    def __init__(self, suit, number):\n",
    "        self.suit = suit\n",
    "        self.number = number\n",
    "        \n",
    "    def __str__(self):\n",
    "        return \"{} of {}s\".format(self.number, self.suit)"
   ]
  },
  {
   "cell_type": "code",
   "execution_count": 131,
   "metadata": {
    "collapsed": true
   },
   "outputs": [],
   "source": [
    "class Player:\n",
    "    \n",
    "    def __init__(self):\n",
    "        self.cards = []\n",
    "            \n",
    "    def add_card(self, card):\n",
    "        self.cards.append(card)\n",
    "        \n",
    "    def get_hand_value(self):\n",
    "        return sum([card.number for card in self.cards])\n",
    "    \n",
    "    def should_i_hit(self):\n",
    "        return self.get_hand_value() < 14"
   ]
  },
  {
   "cell_type": "code",
   "execution_count": 132,
   "metadata": {
    "collapsed": true
   },
   "outputs": [],
   "source": [
    "joel = Player()\n",
    "joel.add_card(cards[1])\n",
    "joel.add_card(cards[8])"
   ]
  },
  {
   "cell_type": "code",
   "execution_count": 77,
   "metadata": {
    "collapsed": false
   },
   "outputs": [
    {
     "name": "stdout",
     "output_type": "stream",
     "text": [
      "[<__main__.Card object at 0x10f356b70>, <__main__.Card object at 0x10f356cf8>]\n",
      "11\n",
      "True\n",
      "False\n",
      "17\n"
     ]
    }
   ],
   "source": [
    "print(joel.cards)\n",
    "print(joel.get_hand_value())\n",
    "print(joel.should_i_hit())\n",
    "joel.add_card(cards[5])\n",
    "print(joel.should_i_hit())\n",
    "print(joel.get_hand_value())"
   ]
  },
  {
   "cell_type": "code",
   "execution_count": null,
   "metadata": {
    "collapsed": true
   },
   "outputs": [],
   "source": []
  },
  {
   "cell_type": "code",
   "execution_count": null,
   "metadata": {
    "collapsed": true
   },
   "outputs": [],
   "source": []
  },
  {
   "cell_type": "code",
   "execution_count": null,
   "metadata": {
    "collapsed": true
   },
   "outputs": [],
   "source": []
  },
  {
   "cell_type": "code",
   "execution_count": null,
   "metadata": {
    "collapsed": true
   },
   "outputs": [],
   "source": []
  },
  {
   "cell_type": "code",
   "execution_count": null,
   "metadata": {
    "collapsed": true
   },
   "outputs": [],
   "source": []
  },
  {
   "cell_type": "code",
   "execution_count": null,
   "metadata": {
    "collapsed": true
   },
   "outputs": [],
   "source": []
  },
  {
   "cell_type": "code",
   "execution_count": null,
   "metadata": {
    "collapsed": true
   },
   "outputs": [],
   "source": []
  },
  {
   "cell_type": "code",
   "execution_count": null,
   "metadata": {
    "collapsed": true
   },
   "outputs": [],
   "source": []
  }
 ],
 "metadata": {
  "kernelspec": {
   "display_name": "Python 3",
   "language": "python",
   "name": "python3"
  },
  "language_info": {
   "codemirror_mode": {
    "name": "ipython",
    "version": 3
   },
   "file_extension": ".py",
   "mimetype": "text/x-python",
   "name": "python",
   "nbconvert_exporter": "python",
   "pygments_lexer": "ipython3",
   "version": "3.4.3"
  }
 },
 "nbformat": 4,
 "nbformat_minor": 0
}
