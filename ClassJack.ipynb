{
 "cells": [
  {
   "cell_type": "code",
   "execution_count": 72,
   "metadata": {
    "collapsed": true
   },
   "outputs": [],
   "source": [
    "import random"
   ]
  },
  {
   "cell_type": "code",
   "execution_count": 73,
   "metadata": {
    "collapsed": false
   },
   "outputs": [],
   "source": [
    "class Deck:\n",
    "    def __init__(self, deck):\n",
    "        self.deck = deck"
   ]
  },
  {
   "cell_type": "code",
   "execution_count": 116,
   "metadata": {
    "collapsed": false
   },
   "outputs": [],
   "source": [
    "class Player:\n",
    "    def __init__(self, Deck, Game):\n",
    "        self.hand = []\n",
    "        self.money = 100\n",
    "        \n",
    "    def draw_card(self):\n",
    "        self.hand.append(random.choice(deck.deck))\n",
    "\n",
    "    def hand_value(self):\n",
    "        if 1 in self.hand:\n",
    "            if 7 <= sum(self.hand) <= 11:\n",
    "                return sum(self.hand) + 10\n",
    "        return sum(self.hand)\n",
    "\n",
    "    def dealer_hit_or_stay(self):\n",
    "        if self.hand_value() < 17:\n",
    "            self.draw_card()\n",
    "        else:\n",
    "            pass\n",
    "        \n",
    "    def player_hit_or_stay(self):\n",
    "        choice = input(\"Enter 'h' to Hit or just 'Enter' to Stay. \").lower()\n",
    "        if choice == 'h':\n",
    "            self.draw_card()\n",
    "        else:\n",
    "            pass"
   ]
  },
  {
   "cell_type": "code",
   "execution_count": 280,
   "metadata": {
    "collapsed": false
   },
   "outputs": [
    {
     "ename": "IndentationError",
     "evalue": "expected an indented block (<ipython-input-280-ce5c6419a8f7>, line 42)",
     "output_type": "error",
     "traceback": [
      "\u001b[0;36m  File \u001b[0;32m\"<ipython-input-280-ce5c6419a8f7>\"\u001b[0;36m, line \u001b[0;32m42\u001b[0m\n\u001b[0;31m    def check_for_blackjack(self):\u001b[0m\n\u001b[0m      ^\u001b[0m\n\u001b[0;31mIndentationError\u001b[0m\u001b[0;31m:\u001b[0m expected an indented block\n"
     ]
    }
   ],
   "source": [
    "class Game:\n",
    "    def __init__(self, player1, player2):\n",
    "        self.player1 = player1\n",
    "        self.player2 = player2\n",
    "            \n",
    "    def begin_game(self):\n",
    "        print(\"Player funds = $\", player1.money)\n",
    "        print(\"Dealing cards\")\n",
    "        for _ in range (1, 2):\n",
    "            player1.draw_card()\n",
    "            player2.draw_card()\n",
    "        if player1.hand_value() == 21:\n",
    "            if player2.hand_value() == 21:\n",
    "                print(\"Player and Dealer have BlackJack!\")\n",
    "                print(\"Game is a tie\")\n",
    "                print(\"Player hand \", player1.hand)\n",
    "                print(\"Dealer hand \", player2.hand)\n",
    "                print(\"Player funds = $\", player1.money)\n",
    "                play_again()\n",
    "            print(\"Player wins with BlackJack!\")\n",
    "            print(\"Player hand \", player1.hand)\n",
    "            print(\"Dealer hand \", player2.hand)\n",
    "            player1.money += 10\n",
    "            print(\"Player funds = $\", player1.money)\n",
    "            game.play_again()\n",
    "        elif player2.hand_value() == 21:\n",
    "            print(\"Dealer wins with BlackJack!\")\n",
    "            print(\"Player hand \", player1.hand)\n",
    "            print(\"Dealer hand \", player2.hand)\n",
    "            game.play_again()\n",
    "        else:\n",
    "            print(\"Player hand \", player1.hand)\n",
    "            print(\"Dealer shows\", player2.hand[0])\n",
    "            \n",
    "    def player_wins(self):\n",
    "        print(\"Player wins!\")\n",
    "        game.play_again()\n",
    "        \n",
    "    def dealer_wins(self):\n",
    "        \n",
    "                \n",
    "    def check_for_blackjack(self):\n",
    "        pass\n",
    "\n",
    "    def play_again(self):\n",
    "        print('play again?')\n",
    "        pass\n",
    "\n",
    "    def winner(self):\n",
    "        if self.player1.hand > self.player2.hand:\n",
    "            return(\"{} is the winner with a score of {}.\".format(self.player1, self.player1.hand_value()))\n",
    "        elif self.player2.hand > self.player1.hand:\n",
    "            return(\"{} is the winner with a score of {}.\".format(self.player2, self.player2.hand_value()))\n",
    "        else:\n",
    "            return(\"It's a tie.  {} {} and {} {}.\".format(self.player1, player1.hand_value(), self.player2, self.player2.hand_value()))\n"
   ]
  },
  {
   "cell_type": "code",
   "execution_count": 291,
   "metadata": {
    "collapsed": false
   },
   "outputs": [
    {
     "name": "stdout",
     "output_type": "stream",
     "text": [
      "Player funds = $ 100\n",
      "Dealing cards\n",
      "Player wins with BlackJack!\n",
      "play again?\n"
     ]
    }
   ],
   "source": [
    "deck = Deck(deck = [1, 2, 3, 4, 5, 6, 7, 8, 9, 10, 10, 10, 10])\n",
    "player1 = Player(Deck, Game)\n",
    "player2 = Player(Deck, Game)\n",
    "game = Game(player1, player2)\n",
    "game.begin_game()"
   ]
  },
  {
   "cell_type": "code",
   "execution_count": null,
   "metadata": {
    "collapsed": true
   },
   "outputs": [],
   "source": []
  },
  {
   "cell_type": "code",
   "execution_count": null,
   "metadata": {
    "collapsed": true
   },
   "outputs": [],
   "source": []
  },
  {
   "cell_type": "code",
   "execution_count": null,
   "metadata": {
    "collapsed": true
   },
   "outputs": [],
   "source": []
  },
  {
   "cell_type": "code",
   "execution_count": null,
   "metadata": {
    "collapsed": true
   },
   "outputs": [],
   "source": []
  },
  {
   "cell_type": "code",
   "execution_count": null,
   "metadata": {
    "collapsed": true
   },
   "outputs": [],
   "source": []
  },
  {
   "cell_type": "code",
   "execution_count": null,
   "metadata": {
    "collapsed": true
   },
   "outputs": [],
   "source": []
  },
  {
   "cell_type": "code",
   "execution_count": null,
   "metadata": {
    "collapsed": true
   },
   "outputs": [],
   "source": []
  },
  {
   "cell_type": "code",
   "execution_count": null,
   "metadata": {
    "collapsed": true
   },
   "outputs": [],
   "source": []
  },
  {
   "cell_type": "code",
   "execution_count": 13,
   "metadata": {
    "collapsed": false
   },
   "outputs": [
    {
     "name": "stdout",
     "output_type": "stream",
     "text": [
      "Enter 'h' to Hit or just 'Enter' to Stay. p\n",
      "0\n",
      "[]\n",
      "Enter 'h' to Hit or just 'Enter' to Stay. p\n",
      "0\n",
      "[]\n",
      "Enter 'h' to Hit or just 'Enter' to Stay. p\n",
      "0\n",
      "[]\n",
      "Enter 'h' to Hit or just 'Enter' to Stay. p\n",
      "0\n",
      "[]\n"
     ]
    }
   ],
   "source": [
    "player1.player_hit_or_stay()\n",
    "print(player1.hand_value())\n",
    "print(player1.hand)\n",
    "player1.player_hit_or_stay()\n",
    "print(player1.hand_value())\n",
    "print(player1.hand)\n",
    "player1.player_hit_or_stay()\n",
    "print(player1.hand_value())\n",
    "print(player1.hand)\n",
    "player1.player_hit_or_stay()\n",
    "print(player1.hand_value())\n",
    "print(player1.hand)\n",
    "\n"
   ]
  },
  {
   "cell_type": "code",
   "execution_count": 29,
   "metadata": {
    "collapsed": false
   },
   "outputs": [
    {
     "name": "stdout",
     "output_type": "stream",
     "text": [
      "[5, 5, 10, 3, 10, 2, 10, 2, 10, 10]\n",
      "67\n"
     ]
    }
   ],
   "source": [
    "player1.draw_card()\n",
    "player1.dealer_hit_or_stay()\n",
    "player1.dealer_hit_or_stay()\n",
    "player1.dealer_hit_or_stay()\n",
    "player1.dealer_hit_or_stay()\n",
    "print(player1.hand)\n",
    "print(player1.hand_value())\n"
   ]
  },
  {
   "cell_type": "code",
   "execution_count": null,
   "metadata": {
    "collapsed": true
   },
   "outputs": [],
   "source": []
  },
  {
   "cell_type": "code",
   "execution_count": null,
   "metadata": {
    "collapsed": true
   },
   "outputs": [],
   "source": []
  },
  {
   "cell_type": "code",
   "execution_count": null,
   "metadata": {
    "collapsed": true
   },
   "outputs": [],
   "source": []
  },
  {
   "cell_type": "code",
   "execution_count": null,
   "metadata": {
    "collapsed": true
   },
   "outputs": [],
   "source": []
  },
  {
   "cell_type": "code",
   "execution_count": null,
   "metadata": {
    "collapsed": true
   },
   "outputs": [],
   "source": []
  }
 ],
 "metadata": {
  "kernelspec": {
   "display_name": "Python 3",
   "language": "python",
   "name": "python3"
  },
  "language_info": {
   "codemirror_mode": {
    "name": "ipython",
    "version": 3
   },
   "file_extension": ".py",
   "mimetype": "text/x-python",
   "name": "python",
   "nbconvert_exporter": "python",
   "pygments_lexer": "ipython3",
   "version": "3.4.3"
  }
 },
 "nbformat": 4,
 "nbformat_minor": 0
}
