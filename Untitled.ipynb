{
 "cells": [
  {
   "cell_type": "code",
   "execution_count": 182,
   "metadata": {
    "collapsed": false
   },
   "outputs": [
    {
     "ename": "TypeError",
     "evalue": "object of type 'NoneType' has no len()",
     "output_type": "error",
     "traceback": [
      "\u001b[0;31m---------------------------------------------------------------------------\u001b[0m",
      "\u001b[0;31mTypeError\u001b[0m                                 Traceback (most recent call last)",
      "\u001b[0;32m<ipython-input-182-2fbd0ae71952>\u001b[0m in \u001b[0;36m<module>\u001b[0;34m()\u001b[0m\n\u001b[1;32m     16\u001b[0m \u001b[0;34m\u001b[0m\u001b[0m\n\u001b[1;32m     17\u001b[0m \u001b[0;34m\u001b[0m\u001b[0m\n\u001b[0;32m---> 18\u001b[0;31m \u001b[0mdeck\u001b[0m \u001b[0;34m=\u001b[0m \u001b[0mrandom\u001b[0m\u001b[0;34m.\u001b[0m\u001b[0mshuffle\u001b[0m\u001b[0;34m(\u001b[0m\u001b[0mdeck\u001b[0m\u001b[0;34m)\u001b[0m\u001b[0;34m\u001b[0m\u001b[0m\n\u001b[0m\u001b[1;32m     19\u001b[0m \u001b[0;34m\u001b[0m\u001b[0m\n\u001b[1;32m     20\u001b[0m \u001b[0;34m\u001b[0m\u001b[0m\n",
      "\u001b[0;32m/Users/jeffreyhacker/Documents/Python/Iron_Yard/homework/blackjack/.direnv/python-3.4.3/lib/python3.4/random.py\u001b[0m in \u001b[0;36mshuffle\u001b[0;34m(self, x, random)\u001b[0m\n\u001b[1;32m    267\u001b[0m         \u001b[0;32mif\u001b[0m \u001b[0mrandom\u001b[0m \u001b[0;32mis\u001b[0m \u001b[0;32mNone\u001b[0m\u001b[0;34m:\u001b[0m\u001b[0;34m\u001b[0m\u001b[0m\n\u001b[1;32m    268\u001b[0m             \u001b[0mrandbelow\u001b[0m \u001b[0;34m=\u001b[0m \u001b[0mself\u001b[0m\u001b[0;34m.\u001b[0m\u001b[0m_randbelow\u001b[0m\u001b[0;34m\u001b[0m\u001b[0m\n\u001b[0;32m--> 269\u001b[0;31m             \u001b[0;32mfor\u001b[0m \u001b[0mi\u001b[0m \u001b[0;32min\u001b[0m \u001b[0mreversed\u001b[0m\u001b[0;34m(\u001b[0m\u001b[0mrange\u001b[0m\u001b[0;34m(\u001b[0m\u001b[0;36m1\u001b[0m\u001b[0;34m,\u001b[0m \u001b[0mlen\u001b[0m\u001b[0;34m(\u001b[0m\u001b[0mx\u001b[0m\u001b[0;34m)\u001b[0m\u001b[0;34m)\u001b[0m\u001b[0;34m)\u001b[0m\u001b[0;34m:\u001b[0m\u001b[0;34m\u001b[0m\u001b[0m\n\u001b[0m\u001b[1;32m    270\u001b[0m                 \u001b[0;31m# pick an element in x[:i+1] with which to exchange x[i]\u001b[0m\u001b[0;34m\u001b[0m\u001b[0;34m\u001b[0m\u001b[0m\n\u001b[1;32m    271\u001b[0m                 \u001b[0mj\u001b[0m \u001b[0;34m=\u001b[0m \u001b[0mrandbelow\u001b[0m\u001b[0;34m(\u001b[0m\u001b[0mi\u001b[0m\u001b[0;34m+\u001b[0m\u001b[0;36m1\u001b[0m\u001b[0;34m)\u001b[0m\u001b[0;34m\u001b[0m\u001b[0m\n",
      "\u001b[0;31mTypeError\u001b[0m: object of type 'NoneType' has no len()"
     ]
    }
   ],
   "source": [
    "# Cards includes a list of 52 regular cards with no Jokers\n",
    "import random\n",
    "\n",
    "whole_deck = ['A of clubs', 'K of clubs', 'Q of clubs', 'J of clubs', '10 of clubs',\n",
    "        '9 of clubs', '8 of clubs', '7 of clubs', '6 of clubs', '5 of clubs',\n",
    "        '4 of clubs', '3 of clubs', '2 of clubs', 'A of hearts', 'K of hearts',\n",
    "        'Q of hearts', 'J of hearts', '10 of hearts', '9 of hearts', '8 of hearts',\n",
    "        '7 of hearts', '6 of hearts', '5 of hearts', '4 of hearts', '3 of hearts',\n",
    "        '2 of hearts', 'A of diamonds', 'K of diamonds', 'Q of diamonds',\n",
    "        'J of diamonds', '10 of diamonds', '9 of diamonds', '8 of diamonds',\n",
    "        '7 of diamonds', '6 of diamonds', '5 of diamonds', '4 of diamonds',\n",
    "        '3 of diamonds', '2 of diamonds', 'A of spades', 'K of spades',\n",
    "        'Q of spades', 'J of spades', '10 of spades', '9 of spades', '8 of spades',\n",
    "        '7 of spades', '6 of spades', '5 of spades', '4 of spades', '3 of spades',\n",
    "        '2 of spades']\n",
    "\n",
    "\n",
    "deck = whole_deck\n",
    "\n",
    "\n",
    "# played_cards = []\n",
    "\n",
    "live_card = deck.pop()\n",
    "\n",
    "\n",
    "# random.shuffle(lst)\n",
    "\n",
    "random.shuffle(deck)\n",
    "print(deck)\n",
    "print(live_card)\n",
    "    \n",
    "    \n",
    "live_card not in deck == True"
   ]
  },
  {
   "cell_type": "code",
   "execution_count": 184,
   "metadata": {
    "collapsed": false
   },
   "outputs": [
    {
     "name": "stdout",
     "output_type": "stream",
     "text": [
      "Word? Jeff\n",
      "J\n"
     ]
    }
   ],
   "source": [
    "\n",
    "class Decide:\n",
    "    def is_empty(self, word):\n",
    "        if len(word) == 0:\n",
    "            return True\n",
    "        else:\n",
    "            return\n",
    "\n",
    "def a_func(a_string):\n",
    "    decision = Decide()\n",
    "    if decision.is_empty(a_string):\n",
    "        return(\"\")\n",
    "    else:\n",
    "        return a_string[0]\n",
    "\n",
    "print(a_func(input(\"Word? \")))\n",
    "\n"
   ]
  },
  {
   "cell_type": "code",
   "execution_count": null,
   "metadata": {
    "collapsed": true
   },
   "outputs": [],
   "source": []
  },
  {
   "cell_type": "code",
   "execution_count": 190,
   "metadata": {
    "collapsed": false
   },
   "outputs": [
    {
     "name": "stdout",
     "output_type": "stream",
     "text": [
      "K of clubs\n",
      "3 of clubs\n",
      "2 of clubs\n",
      "[]\n"
     ]
    }
   ],
   "source": [
    "alist = ['2 of clubs', '3 of clubs', 'K of clubs']\n",
    "\n",
    "x = alist.pop()\n",
    "print(x)\n",
    "x = alist.pop()\n",
    "print(x)\n",
    "x = alist.pop()\n",
    "print(x)\n",
    "\n",
    "print(alist)\n"
   ]
  },
  {
   "cell_type": "code",
   "execution_count": null,
   "metadata": {
    "collapsed": true
   },
   "outputs": [],
   "source": []
  }
 ],
 "metadata": {
  "kernelspec": {
   "display_name": "Python 3",
   "language": "python",
   "name": "python3"
  },
  "language_info": {
   "codemirror_mode": {
    "name": "ipython",
    "version": 3
   },
   "file_extension": ".py",
   "mimetype": "text/x-python",
   "name": "python",
   "nbconvert_exporter": "python",
   "pygments_lexer": "ipython3",
   "version": "3.4.3"
  }
 },
 "nbformat": 4,
 "nbformat_minor": 0
}
