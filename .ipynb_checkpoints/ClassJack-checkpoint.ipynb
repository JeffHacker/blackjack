{
 "cells": [
  {
   "cell_type": "code",
   "execution_count": 1,
   "metadata": {
    "collapsed": true
   },
   "outputs": [],
   "source": [
    "import random"
   ]
  },
  {
   "cell_type": "code",
   "execution_count": 2,
   "metadata": {
    "collapsed": false
   },
   "outputs": [],
   "source": [
    "class Deck:\n",
    "    def __init__(self, deck):\n",
    "        self.deck = deck"
   ]
  },
  {
   "cell_type": "code",
   "execution_count": 8,
   "metadata": {
    "collapsed": false
   },
   "outputs": [],
   "source": [
    "class Player:\n",
    "    def __init__(self, Deck, Game):\n",
    "        self.hand = []\n",
    "\n",
    "    def draw_card(self):\n",
    "        self.hand.append(random.choice(deck.deck))\n",
    "\n",
    "    def hand_value(self):\n",
    "        if 1 in self.hand:\n",
    "            if 7 <= sum(self.hand) <= 11:\n",
    "                return sum(self.hand) + 10\n",
    "        return sum(self.hand)\n",
    "\n",
    "    def dealer_hit_or_stay(self):\n",
    "        if self.hand_value() < 17:\n",
    "            self.draw_card()\n",
    "        else:\n",
    "            pass\n",
    "        \n",
    "    def player_hit_or_stay(self):\n",
    "        choice = input(\"Enter 'h' to Hit or just 'Enter' to Stay. \").lower()\n",
    "        if choice == 'h':\n",
    "            self.draw_card()\n",
    "        else:\n",
    "            pass"
   ]
  },
  {
   "cell_type": "code",
   "execution_count": 9,
   "metadata": {
    "collapsed": false
   },
   "outputs": [],
   "source": [
    "class Game:\n",
    "    def __init__(self, player1, player2):\n",
    "        self.player1 = player1\n",
    "        self.player2 = player2\n",
    "    \n",
    "    def __str__(self):\n",
    "        \n",
    "        def begin_game(self):\n",
    "            pass\n",
    "        \n",
    "        def check_for_blackjack(self):\n",
    "            pass\n",
    "        \n",
    "        def play_again_choice(self):\n",
    "            pass\n",
    "    \n",
    "        def winner(self):\n",
    "            if self.player1.hand > self.player2.hand:\n",
    "                return(\"{} is the winner with a score of {}.\".format(self.player1, self.player1.hand_value()))\n",
    "            elif self.player2.hand > self.player1.hand:\n",
    "                return(\"{} is the winner with a score of {}.\".format(self.player2, self.player2.hand_value()))\n",
    "            else:\n",
    "                return(\"It's a tie.  {} {} and {} {}.\".format(self.player1, player1.hand_value(), self.player2, self.player2.hand_value()))\n"
   ]
  },
  {
   "cell_type": "code",
   "execution_count": 23,
   "metadata": {
    "collapsed": true
   },
   "outputs": [],
   "source": [
    "deck = Deck(deck = [1, 2, 3, 4, 5, 6, 7, 8, 9, 10, 10, 10, 10])\n",
    "player1 = Player(Deck, Game)"
   ]
  },
  {
   "cell_type": "code",
   "execution_count": 11,
   "metadata": {
    "collapsed": false
   },
   "outputs": [
    {
     "name": "stdout",
     "output_type": "stream",
     "text": [
      "Enter 'h' to Hit or just 'Enter' to Stay. p\n",
      "0\n",
      "[]\n",
      "Enter 'h' to Hit or just 'Enter' to Stay. p\n",
      "0\n",
      "[]\n",
      "Enter 'h' to Hit or just 'Enter' to Stay. p\n",
      "0\n",
      "[]\n",
      "Enter 'h' to Hit or just 'Enter' to Stay. p\n",
      "0\n",
      "[]\n"
     ]
    }
   ],
   "source": [
    "player1.player_hit_or_stay()\n",
    "print(player1.hand_value())\n",
    "print(player1.hand)\n",
    "player1.player_hit_or_stay()\n",
    "print(player1.hand_value())\n",
    "print(player1.hand)\n",
    "player1.player_hit_or_stay()\n",
    "print(player1.hand_value())\n",
    "print(player1.hand)\n",
    "player1.player_hit_or_stay()\n",
    "print(player1.hand_value())\n",
    "print(player1.hand)\n",
    "\n"
   ]
  },
  {
   "cell_type": "code",
   "execution_count": 24,
   "metadata": {
    "collapsed": false
   },
   "outputs": [
    {
     "name": "stdout",
     "output_type": "stream",
     "text": [
      "[8, 10]\n",
      "18\n"
     ]
    }
   ],
   "source": [
    "player1.draw_card()\n",
    "player1.dealer_hit_or_stay()\n",
    "player1.dealer_hit_or_stay()\n",
    "player1.dealer_hit_or_stay()\n",
    "player1.dealer_hit_or_stay()\n",
    "print(player1.hand)\n",
    "print(player1.hand_value())\n"
   ]
  },
  {
   "cell_type": "code",
   "execution_count": null,
   "metadata": {
    "collapsed": true
   },
   "outputs": [],
   "source": []
  },
  {
   "cell_type": "code",
   "execution_count": null,
   "metadata": {
    "collapsed": true
   },
   "outputs": [],
   "source": []
  },
  {
   "cell_type": "code",
   "execution_count": null,
   "metadata": {
    "collapsed": true
   },
   "outputs": [],
   "source": []
  },
  {
   "cell_type": "code",
   "execution_count": null,
   "metadata": {
    "collapsed": true
   },
   "outputs": [],
   "source": []
  },
  {
   "cell_type": "code",
   "execution_count": null,
   "metadata": {
    "collapsed": true
   },
   "outputs": [],
   "source": []
  }
 ],
 "metadata": {
  "kernelspec": {
   "display_name": "Python 3",
   "language": "python",
   "name": "python3"
  },
  "language_info": {
   "codemirror_mode": {
    "name": "ipython",
    "version": 3
   },
   "file_extension": ".py",
   "mimetype": "text/x-python",
   "name": "python",
   "nbconvert_exporter": "python",
   "pygments_lexer": "ipython3",
   "version": "3.4.3"
  }
 },
 "nbformat": 4,
 "nbformat_minor": 0
}
